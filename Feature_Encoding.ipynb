{
  "nbformat": 4,
  "nbformat_minor": 0,
  "metadata": {
    "colab": {
      "provenance": [],
      "authorship_tag": "ABX9TyPsa30gOiB5cWXiri8Yt8P5"
    },
    "kernelspec": {
      "name": "python3",
      "display_name": "Python 3"
    },
    "language_info": {
      "name": "python"
    }
  },
  "cells": [
    {
      "cell_type": "markdown",
      "source": [
        "#Author: Mubeen Alvi"
      ],
      "metadata": {
        "id": "1ZXWjShvHeo2"
      }
    },
    {
      "cell_type": "markdown",
      "source": [
        "#feature Encoding\n",
        "1. One hot encoding"
      ],
      "metadata": {
        "id": "CXg5_R8hHKvV"
      }
    },
    {
      "cell_type": "code",
      "execution_count": 1,
      "metadata": {
        "colab": {
          "base_uri": "https://localhost:8080/"
        },
        "id": "tL51iWnAHC6N",
        "outputId": "8ba178f1-e45f-447b-9e73-6aa3e048a10a"
      },
      "outputs": [
        {
          "output_type": "stream",
          "name": "stdout",
          "text": [
            "   Color\n",
            "0    Red\n",
            "1  Green\n",
            "2   Blue\n",
            "3    Red\n",
            "   Color_Blue  Color_Green  Color_Red\n",
            "0           0            0          1\n",
            "1           0            1          0\n",
            "2           1            0          0\n",
            "3           0            0          1\n"
          ]
        }
      ],
      "source": [
        "import pandas as pd\n",
        "# Sample data\n",
        "data = {'Color': ['Red', 'Green', 'Blue', 'Red']}\n",
        "df = pd.DataFrame(data)\n",
        "print(df)\n",
        "# One-Hot Encoding\n",
        "encoded_data = pd.get_dummies(df, columns=['Color'])\n",
        "print(encoded_data)"
      ]
    },
    {
      "cell_type": "markdown",
      "source": [
        "#2. Label Encoding"
      ],
      "metadata": {
        "id": "C-kHKyanHRTP"
      }
    },
    {
      "cell_type": "code",
      "source": [
        "from sklearn.preprocessing import LabelEncoder\n",
        "# Sample data\n",
        "data = {'Animal': ['Dog', 'Cat', 'Bird', 'Dog', \"Bird\"]}\n",
        "df = pd.DataFrame(data)\n",
        "print(df)\n",
        "\n",
        "# Label Encoding\n",
        "label_encoder = LabelEncoder()\n",
        "df['Animal_encoded'] = label_encoder.fit_transform(df['Animal'])\n",
        "print(df)"
      ],
      "metadata": {
        "colab": {
          "base_uri": "https://localhost:8080/"
        },
        "id": "eJ4WhB2vHPDi",
        "outputId": "f4203982-2242-4d58-edb8-59bc564a53a3"
      },
      "execution_count": 2,
      "outputs": [
        {
          "output_type": "stream",
          "name": "stdout",
          "text": [
            "  Animal\n",
            "0    Dog\n",
            "1    Cat\n",
            "2   Bird\n",
            "3    Dog\n",
            "4   Bird\n",
            "  Animal  Animal_encoded\n",
            "0    Dog               2\n",
            "1    Cat               1\n",
            "2   Bird               0\n",
            "3    Dog               2\n",
            "4   Bird               0\n"
          ]
        }
      ]
    },
    {
      "cell_type": "markdown",
      "source": [
        "#Ordinal Encoding"
      ],
      "metadata": {
        "id": "zoI6rx7ZHX5a"
      }
    },
    {
      "cell_type": "code",
      "source": [
        "from sklearn.preprocessing import OrdinalEncoder\n",
        "# Sample data\n",
        "data = {'Size': ['Small', 'Medium', 'Large', 'Medium']}\n",
        "df = pd.DataFrame(data)\n",
        "print(df)\n",
        "\n",
        "# Ordinal Encoding\n",
        "ordinal_encoder = OrdinalEncoder(categories=[['Small', 'Medium', 'Large']])\n",
        "df['Size_encoded'] = ordinal_encoder.fit_transform(df[['Size']])\n",
        "print(df)"
      ],
      "metadata": {
        "colab": {
          "base_uri": "https://localhost:8080/"
        },
        "id": "MLhXyZH3HUSV",
        "outputId": "ed29ddc5-5baf-492e-9a95-278240983c96"
      },
      "execution_count": 3,
      "outputs": [
        {
          "output_type": "stream",
          "name": "stdout",
          "text": [
            "     Size\n",
            "0   Small\n",
            "1  Medium\n",
            "2   Large\n",
            "3  Medium\n",
            "     Size  Size_encoded\n",
            "0   Small           0.0\n",
            "1  Medium           1.0\n",
            "2   Large           2.0\n",
            "3  Medium           1.0\n"
          ]
        }
      ]
    },
    {
      "cell_type": "code",
      "source": [],
      "metadata": {
        "id": "jDO2LIEmHbD4"
      },
      "execution_count": null,
      "outputs": []
    }
  ]
}